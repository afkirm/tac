{
 "cells": [
  {
   "cell_type": "code",
   "execution_count": 1,
   "metadata": {},
   "outputs": [],
   "source": []
  },
  {
   "cell_type": "code",
   "execution_count": 50,
   "metadata": {},
   "outputs": [],
   "source": [
    "import os\n",
    "import yake"
   ]
  },
  {
   "cell_type": "code",
   "execution_count": null,
   "metadata": {},
   "outputs": [],
   "source": [
    "#choisir une année\n",
    "year = 1970"
   ]
  },
  {
   "cell_type": "code",
   "execution_count": 23,
   "metadata": {},
   "outputs": [
    {
     "data": {
      "text/plain": [
       "['KB_JB838_1970-01-03_01-00002.txt',\n",
       " 'KB_JB838_1970-01-06_01-00004.txt',\n",
       " 'KB_JB838_1970-01-07_01-00020.txt',\n",
       " 'KB_JB838_1970-01-09_01-00010.txt',\n",
       " 'KB_JB838_1970-01-10_01-00029.txt',\n",
       " 'KB_JB838_1970-01-18_01-00013.txt',\n",
       " 'KB_JB838_1970-01-21_01-00011.txt',\n",
       " 'KB_JB838_1970-01-22_01-00032.txt',\n",
       " 'KB_JB838_1970-01-25_01-00014.txt',\n",
       " 'KB_JB838_1970-02-04_01-00006.txt',\n",
       " 'KB_JB838_1970-02-11_01-00015.txt',\n",
       " 'KB_JB838_1970-02-13_01-00026.txt',\n",
       " 'KB_JB838_1970-02-14_01-00006.txt',\n",
       " 'KB_JB838_1970-02-14_01-00022.txt',\n",
       " 'KB_JB838_1970-02-15_01-00016.txt',\n",
       " 'KB_JB838_1970-02-19_01-00011.txt',\n",
       " 'KB_JB838_1970-02-20_01-00007.txt',\n",
       " 'KB_JB838_1970-02-26_01-00022.txt',\n",
       " 'KB_JB838_1970-03-04_01-00015.txt',\n",
       " 'KB_JB838_1970-03-10_01-00024.txt',\n",
       " 'KB_JB838_1970-03-15_01-00011.txt',\n",
       " 'KB_JB838_1970-03-19_01-00015.txt',\n",
       " 'KB_JB838_1970-03-22_01-00002.txt',\n",
       " 'KB_JB838_1970-03-22_01-00029.txt',\n",
       " 'KB_JB838_1970-03-27_01-00018.txt',\n",
       " 'KB_JB838_1970-03-28_01-00027.txt',\n",
       " 'KB_JB838_1970-06-02_01-00032.txt',\n",
       " 'KB_JB838_1970-06-03_01-00001.txt',\n",
       " 'KB_JB838_1970-06-04_01-00009.txt',\n",
       " 'KB_JB838_1970-06-09_01-00017.txt',\n",
       " 'KB_JB838_1970-06-11_01-00004.txt',\n",
       " 'KB_JB838_1970-06-13_01-00012.txt',\n",
       " 'KB_JB838_1970-06-18_01-00020.txt',\n",
       " 'KB_JB838_1970-06-18_01-00023.txt',\n",
       " 'KB_JB838_1970-06-18_01-00025.txt',\n",
       " 'KB_JB838_1970-06-19_01-00017.txt',\n",
       " 'KB_JB838_1970-06-20_01-00020.txt',\n",
       " 'KB_JB838_1970-06-21_01-00001.txt',\n",
       " 'KB_JB838_1970-06-21_01-00029.txt',\n",
       " 'KB_JB838_1970-06-24_01-00001.txt',\n",
       " 'KB_JB838_1970-06-28_01-00011.txt',\n",
       " 'KB_JB838_1970-06-30_01-00005.txt',\n",
       " 'KB_JB838_1970-08-01_01-00011.txt',\n",
       " 'KB_JB838_1970-08-01_01-00020.txt',\n",
       " 'KB_JB838_1970-08-06_01-00020.txt',\n",
       " 'KB_JB838_1970-08-12_01-00021.txt',\n",
       " 'KB_JB838_1970-08-14_01-00012.txt',\n",
       " 'KB_JB838_1970-08-15_01-00007.txt',\n",
       " 'KB_JB838_1970-08-18_01-00004.txt',\n",
       " 'KB_JB838_1970-08-20_01-00001.txt',\n",
       " 'KB_JB838_1970-08-20_01-00030.txt',\n",
       " 'KB_JB838_1970-08-26_01-00017.txt',\n",
       " 'KB_JB838_1970-08-27_01-00014.txt',\n",
       " 'KB_JB838_1970-08-30_01-00011.txt',\n",
       " 'KB_JB838_1970-08-30_01-00029.txt',\n",
       " 'KB_JB838_1970-09-04_01-00008.txt',\n",
       " 'KB_JB838_1970-09-06_01-00004.txt',\n",
       " 'KB_JB838_1970-09-12_01-00013.txt',\n",
       " 'KB_JB838_1970-09-12_01-00028.txt',\n",
       " 'KB_JB838_1970-09-16_01-00019.txt',\n",
       " 'KB_JB838_1970-09-19_01-00011.txt',\n",
       " 'KB_JB838_1970-09-20_01-00032.txt',\n",
       " 'KB_JB838_1970-09-22_01-00026.txt',\n",
       " 'KB_JB838_1970-09-27_01-00016.txt',\n",
       " 'KB_JB838_1970-10-03_01-00023.txt',\n",
       " 'KB_JB838_1970-10-07_01-00017.txt',\n",
       " 'KB_JB838_1970-10-08_01-00028.txt',\n",
       " 'KB_JB838_1970-10-08_01-00032.txt',\n",
       " 'KB_JB838_1970-10-09_01-00013.txt',\n",
       " 'KB_JB838_1970-10-10_01-00035.txt',\n",
       " 'KB_JB838_1970-10-11_01-00007.txt',\n",
       " 'KB_JB838_1970-10-11_01-00021.txt',\n",
       " 'KB_JB838_1970-10-11_01-00033.txt',\n",
       " 'KB_JB838_1970-10-14_01-00016.txt',\n",
       " 'KB_JB838_1970-10-14_01-00024.txt',\n",
       " 'KB_JB838_1970-10-14_01-00029.txt',\n",
       " 'KB_JB838_1970-10-15_01-00009.txt',\n",
       " 'KB_JB838_1970-10-16_01-00031.txt',\n",
       " 'KB_JB838_1970-10-17_01-00011.txt',\n",
       " 'KB_JB838_1970-10-17_01-00032.txt',\n",
       " 'KB_JB838_1970-10-25_01-00029.txt',\n",
       " 'KB_JB838_1970-10-28_01-00016.txt',\n",
       " 'KB_JB838_1970-10-29_01-00007.txt',\n",
       " 'KB_JB838_1970-11-08_01-00025.txt',\n",
       " 'KB_JB838_1970-11-10_01-00006.txt',\n",
       " 'KB_JB838_1970-11-13_01-00004.txt',\n",
       " 'KB_JB838_1970-11-13_01-00012.txt',\n",
       " 'KB_JB838_1970-11-15_01-00033.txt',\n",
       " 'KB_JB838_1970-11-21_01-00029.txt',\n",
       " 'KB_JB838_1970-11-25_01-00021.txt',\n",
       " 'KB_JB838_1970-11-28_01-00031.txt',\n",
       " 'KB_JB838_1970-11-29_01-00039.txt',\n",
       " 'KB_JB838_1970-12-03_01-00010.txt',\n",
       " 'KB_JB838_1970-12-05_01-00019.txt',\n",
       " 'KB_JB838_1970-12-06_01-00007.txt',\n",
       " 'KB_JB838_1970-12-06_01-00030.txt',\n",
       " 'KB_JB838_1970-12-08_01-00012.txt',\n",
       " 'KB_JB838_1970-12-13_01-00001.txt',\n",
       " 'KB_JB838_1970-12-19_01-00002.txt',\n",
       " 'KB_JB838_1970-12-29_01-00011.txt']"
      ]
     },
     "execution_count": 23,
     "metadata": {},
     "output_type": "execute_result"
    }
   ],
   "source": [
    "# Lister les fichiers de cette année\n",
    "data_path = '../data'\n",
    "txt_path = '../data/txt'\n",
    "txts = [f for f in os.listdir(txt_path) if os.path.isfile(os.path.join(txt_path, f)) and str(year) in f]\n",
    "txts"
   ]
  },
  {
   "cell_type": "code",
   "execution_count": 34,
   "metadata": {},
   "outputs": [
    {
     "data": {
      "text/plain": [
       "100"
      ]
     },
     "execution_count": 34,
     "metadata": {},
     "output_type": "execute_result"
    }
   ],
   "source": [
    "# vérifier le nombre de fichiers\n",
    "len(txts)"
   ]
  },
  {
   "cell_type": "code",
   "execution_count": 41,
   "metadata": {},
   "outputs": [],
   "source": [
    "data_path2 = \"../data/tmp/\"\n",
    "mes_fichiers = os.listdir(data_path2)"
   ]
  },
  {
   "cell_type": "code",
   "execution_count": 42,
   "metadata": {},
   "outputs": [],
   "source": [
    "notre_année = mes_fichiers[8]\n"
   ]
  },
  {
   "cell_type": "code",
   "execution_count": 46,
   "metadata": {},
   "outputs": [],
   "source": [
    "notre_texte = open(os.path.join(data_path2, notre_année), 'r', encoding=\"utf-8\").read()"
   ]
  },
  {
   "cell_type": "code",
   "execution_count": 51,
   "metadata": {},
   "outputs": [
    {
     "data": {
      "text/plain": [
       "<yake.yake.KeywordExtractor at 0x1b6b2a4e050>"
      ]
     },
     "execution_count": 51,
     "metadata": {},
     "output_type": "execute_result"
    }
   ],
   "source": [
    "# Instantier l'extracteur de mots clés\n",
    "kw_extractor = yake.KeywordExtractor(lan=\"fr\", top=50)\n",
    "kw_extractor"
   ]
  },
  {
   "cell_type": "code",
   "execution_count": 52,
   "metadata": {},
   "outputs": [
    {
     "data": {
      "text/plain": [
       "[('ecrire curriculum vitae', 3.8502629565207716e-08),\n",
       " ('tient lieu part', 4.147701787383738e-08),\n",
       " ('curriculum vitae agence', 4.959907838269762e-08),\n",
       " ('lieu part bruxelles', 5.5898804318635855e-08),\n",
       " ('avis tient lieu', 7.765391945893661e-08),\n",
       " ('libre service militaire', 7.797106740326566e-08),\n",
       " ('douleur part décès', 1.1437446792765516e-07),\n",
       " ('offre curriculum vitae', 1.2593350886005e-07),\n",
       " ('avenue louise bruxelles', 1.3459202623166082e-07),\n",
       " ('vitae prétentions agence', 1.6198232600789182e-07),\n",
       " ('curriculum vitae prétentions', 1.7402401152638437e-07),\n",
       " ('votes valabl plp', 1.9495370836309765e-07),\n",
       " ('adresser curriculum vitae', 2.1547263253345648e-07),\n",
       " ('curriculum vitae détaillé', 2.276265886193547e-07),\n",
       " ('maison offres travail', 2.3512690152162025e-07),\n",
       " ('bonnes notions anglais', 2.385551832084611e-07),\n",
       " ('place louvain bruxelles', 2.511065916301643e-07),\n",
       " ('curriculum vitae service', 2.537055140593446e-07),\n",
       " ('agence royale bruxelles', 2.564421386718158e-07),\n",
       " ('vitae service personnel', 2.801468587465362e-07),\n",
       " ('lieu part avenue', 2.8668329815311854e-07),\n",
       " ('profonde douleur part', 3.182827010877219e-07),\n",
       " ('service funèbre suivi', 3.2762180826106557e-07),\n",
       " ('maison demandes travail', 3.336755259021598e-07),\n",
       " ('bilingue libre service', 3.3744704837793883e-07),\n",
       " ('université libre bruxelles', 3.585612887437043e-07),\n",
       " ('bruxelles ecrire agence', 3.635720064991984e-07),\n",
       " ('ecrire agence bruxelles', 3.6357200649919843e-07),\n",
       " ('part bruxelles place', 3.63919166896033e-07),\n",
       " ('libre bruxelles engage', 3.7035924962910674e-07),\n",
       " ('ecrire curr vitae', 3.766337980235344e-07),\n",
       " ('présent avis tient', 3.7987653242044725e-07),\n",
       " ('bruxelles gare midi', 3.997237714394628e-07),\n",
       " ('avenue arts bruxelles', 4.153598704673029e-07),\n",
       " ('part bruxelles avenue', 4.199499696470278e-07),\n",
       " ('bruxelles midi engage', 4.3887708056343157e-07),\n",
       " ('avantages légaux ecrire', 4.6034409495688976e-07),\n",
       " ('maisons villas bruxelles', 4.60641842228794e-07),\n",
       " ('demande entrée immédiate', 4.6772894910131945e-07),\n",
       " ('millions francs belges', 4.832643169285035e-07),\n",
       " ('demandes travail journée', 4.979195548555749e-07),\n",
       " ('votes valabl moscou', 5.027467837844328e-07),\n",
       " ('offres travail journée', 5.116856679714487e-07),\n",
       " ('voir suite page', 5.164826108097968e-07),\n",
       " ('ecrire agence num', 5.190786759474126e-07),\n",
       " ('envoyer curriculum vitae', 5.234912554699733e-07),\n",
       " ('survenu bruxelles service', 5.273068717075466e-07),\n",
       " ('bilingue bonnes notions', 5.430970817796575e-07),\n",
       " ('place saint lambert', 5.448627660989884e-07),\n",
       " ('louise bruxelles demande', 5.503093462897475e-07)]"
      ]
     },
     "execution_count": 52,
     "metadata": {},
     "output_type": "execute_result"
    }
   ],
   "source": [
    "# Extraire les mots clés de ce texte\n",
    "keywords = kw_extractor.extract_keywords(notre_texte)\n",
    "keywords"
   ]
  }
 ],
 "metadata": {
  "kernelspec": {
   "display_name": "Python 3.10.7 ('tac_venv': venv)",
   "language": "python",
   "name": "python3"
  },
  "language_info": {
   "codemirror_mode": {
    "name": "ipython",
    "version": 3
   },
   "file_extension": ".py",
   "mimetype": "text/x-python",
   "name": "python",
   "nbconvert_exporter": "python",
   "pygments_lexer": "ipython3",
   "version": "3.10.7"
  },
  "orig_nbformat": 4,
  "vscode": {
   "interpreter": {
    "hash": "cc02284ea1abfbf5784b52de346f5d9c212486c58556bf2be7ec1d4893dff572"
   }
  }
 },
 "nbformat": 4,
 "nbformat_minor": 2
}
