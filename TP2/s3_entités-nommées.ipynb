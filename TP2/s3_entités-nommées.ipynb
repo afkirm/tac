{
 "cells": [
  {
   "cell_type": "code",
   "execution_count": 8,
   "metadata": {},
   "outputs": [],
   "source": [
    "from collections import defaultdict\n",
    "import sys\n",
    "import spacy\n"
   ]
  },
  {
   "cell_type": "code",
   "execution_count": 9,
   "metadata": {},
   "outputs": [],
   "source": [
    "nlp = spacy.load('fr_core_news_md')"
   ]
  },
  {
   "cell_type": "code",
   "execution_count": 10,
   "metadata": {},
   "outputs": [],
   "source": [
    "## Charger le texte\n",
    "n= 100000\n",
    "text = open(\"../data/tmp/1970_clean.txt\", encoding=\"utf-8\").read()[:n]"
   ]
  },
  {
   "cell_type": "code",
   "execution_count": 11,
   "metadata": {},
   "outputs": [
    {
     "name": "stdout",
     "output_type": "stream",
     "text": [
      "CPU times: total: 6.14 s\n",
      "Wall time: 6.17 s\n"
     ]
    }
   ],
   "source": [
    "%%time\n",
    "# Traiter le texte\n",
    "\n",
    "doc = nlp(text)"
   ]
  },
  {
   "cell_type": "code",
   "execution_count": 20,
   "metadata": {},
   "outputs": [
    {
     "name": "stdout",
     "output_type": "stream",
     "text": [
      "bruxelles apparait 24 fois dans le corpus\n",
      "belgique apparait 6 fois dans le corpus\n",
      "france apparait 6 fois dans le corpus\n",
      "gand apparait 6 fois dans le corpus\n",
      "hong kong apparait 5 fois dans le corpus\n",
      "henrard apparait 4 fois dans le corpus\n",
      "wynen apparait 4 fois dans le corpus\n",
      "italie apparait 4 fois dans le corpus\n",
      "jrs apparait 4 fois dans le corpus\n",
      "mrs johnson apparait 4 fois dans le corpus\n",
      "enf apparait 4 fois dans le corpus\n",
      "jne apparait 4 fois dans le corpus\n",
      "liège apparait 3 fois dans le corpus\n",
      "chine apparait 3 fois dans le corpus\n",
      "rome apparait 3 fois dans le corpus\n",
      "mons apparait 3 fois dans le corpus\n",
      "lib apparait 3 fois dans le corpus\n",
      "log apparait 3 fois dans le corpus\n",
      "vledder apparait 3 fois dans le corpus\n",
      "rai apparait 2 fois dans le corpus\n",
      "pékin apparait 2 fois dans le corpus\n",
      "paepe apparait 2 fois dans le corpus\n",
      "moscou apparait 2 fois dans le corpus\n",
      "nigérians apparait 2 fois dans le corpus\n",
      "milton friedman apparait 2 fois dans le corpus\n",
      "europe apparait 2 fois dans le corpus\n",
      "madrid apparait 2 fois dans le corpus\n",
      "londres apparait 2 fois dans le corpus\n",
      "daily news apparait 2 fois dans le corpus\n",
      "galoppin apparait 2 fois dans le corpus\n",
      "moortele apparait 2 fois dans le corpus\n",
      "schaerbeek apparait 2 fois dans le corpus\n",
      "auderghem apparait 2 fois dans le corpus\n",
      "lahaye apparait 2 fois dans le corpus\n",
      "joseph matagne apparait 2 fois dans le corpus\n",
      "sinclair apparait 2 fois dans le corpus\n",
      "claude apparait 2 fois dans le corpus\n",
      "crt apparait 2 fois dans le corpus\n",
      "charles quint apparait 2 fois dans le corpus\n",
      "mrs hawkins apparait 2 fois dans le corpus\n",
      "lola carlo apparait 2 fois dans le corpus\n",
      "algérie apparait 2 fois dans le corpus\n",
      "moâ theatre humour apparait 2 fois dans le corpus\n",
      "magika paul gaity apparait 2 fois dans le corpus\n",
      "borra johnny white apparait 2 fois dans le corpus\n",
      "belliard apparait 2 fois dans le corpus\n",
      "alger apparait 2 fois dans le corpus\n",
      "canton postal bruxelles apparait 2 fois dans le corpus\n",
      "fiat apparait 2 fois dans le corpus\n",
      "fac paiem apparait 2 fois dans le corpus\n"
     ]
    }
   ],
   "source": [
    "#compter les entités nommées (à garder)\n",
    "entités = defaultdict(int)\n",
    "for ent in doc.ents:\n",
    "    if ent.label_ == \"LOC\" or \"ORG\" or \"PER\" and len(ent.text) > 3:\n",
    "        entités[ent.text] += 1\n",
    "\n",
    "\n",
    "sorted_entités = sorted(entités.items(), key=lambda kv: kv[1], reverse=True)\n",
    "\n",
    "for entité, freq in sorted_entités[:50]:\n",
    "    print(f\"{entité} apparait {freq} fois dans le corpus\")"
   ]
  }
 ],
 "metadata": {
  "kernelspec": {
   "display_name": "Python 3.10.7 ('tac_venv': venv)",
   "language": "python",
   "name": "python3"
  },
  "language_info": {
   "codemirror_mode": {
    "name": "ipython",
    "version": 3
   },
   "file_extension": ".py",
   "mimetype": "text/x-python",
   "name": "python",
   "nbconvert_exporter": "python",
   "pygments_lexer": "ipython3",
   "version": "3.10.7"
  },
  "orig_nbformat": 4,
  "vscode": {
   "interpreter": {
    "hash": "cc02284ea1abfbf5784b52de346f5d9c212486c58556bf2be7ec1d4893dff572"
   }
  }
 },
 "nbformat": 4,
 "nbformat_minor": 2
}
