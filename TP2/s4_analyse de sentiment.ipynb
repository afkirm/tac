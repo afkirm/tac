{
 "cells": [
  {
   "cell_type": "code",
   "execution_count": 2,
   "metadata": {},
   "outputs": [],
   "source": [
    "#imports\n",
    "import sys\n",
    "from textblob import Blobber\n",
    "from textblob_fr import PatternTagger, PatternAnalyzer"
   ]
  },
  {
   "cell_type": "code",
   "execution_count": 3,
   "metadata": {},
   "outputs": [],
   "source": [
    "#définition de la fonction\n",
    "tb = Blobber(pos_tagger=PatternTagger(), analyzer=PatternAnalyzer())\n",
    "\n",
    "def get_sentiment(input_text):\n",
    "    blob = tb(input_text)\n",
    "    polarity, subjectivity = blob.sentiment\n",
    "    polarity_perc = f\"{100*abs(polarity):.0f}\"\n",
    "    subjectivity_perc = f\"{100*subjectivity:.0f}\"\n",
    "    if polarity > 0:\n",
    "        polarity_str = f\"{polarity_perc}% positive\"\n",
    "    elif polarity < 0:\n",
    "        polarity_str = f\"{polarity_perc}% negative\"\n",
    "    else:\n",
    "        polarity_str = \"neutral\"\n",
    "    if subjectivity > 0:\n",
    "        subjectivity_str = f\"{subjectivity}% subjective\"\n",
    "    else:\n",
    "        subjectivity_str = \"perfectly objective\"\n",
    "    print(f\"This text is {polarity_str} and {subjectivity_str}.\")"
   ]
  },
  {
   "cell_type": "code",
   "execution_count": 4,
   "metadata": {},
   "outputs": [
    {
     "name": "stdout",
     "output_type": "stream",
     "text": [
      "This text is 100% positive and 0.8% subjective.\n"
     ]
    }
   ],
   "source": [
    "#analyser le sentiment de 10 phrases issues de notre année\n",
    "get_sentiment(\"Sous prétexte de ne pas souiller l'amour très pur qu’il lui porte, Petrucchio refuse de toucher à la dot de sa femme\")"
   ]
  },
  {
   "cell_type": "code",
   "execution_count": 5,
   "metadata": {},
   "outputs": [
    {
     "name": "stdout",
     "output_type": "stream",
     "text": [
      "This text is 25% negative and 0.3% subjective.\n"
     ]
    }
   ],
   "source": [
    "get_sentiment(\"Il avait fallu un quart de siècle d’amères expériences pour faire aceëpter cette vérité élémentaire.\")"
   ]
  },
  {
   "cell_type": "code",
   "execution_count": 5,
   "metadata": {},
   "outputs": [
    {
     "name": "stdout",
     "output_type": "stream",
     "text": [
      "This text is 60% negative and 0.6% subjective.\n"
     ]
    }
   ],
   "source": [
    "get_sentiment(\"Les Egyptiens peignaient sur les murs des tombeaux des scènes de ménage pour que le mort ne s’ennuie pas.\")"
   ]
  },
  {
   "cell_type": "code",
   "execution_count": 6,
   "metadata": {},
   "outputs": [
    {
     "name": "stdout",
     "output_type": "stream",
     "text": [
      "This text is 15% positive and 0.1% subjective.\n"
     ]
    }
   ],
   "source": [
    "get_sentiment(\"Je pense, Patrick, qu’il aurait été plus .correct d’attendre que j’invite moi-même Mrs. Caliaghan.\")"
   ]
  },
  {
   "cell_type": "code",
   "execution_count": 7,
   "metadata": {},
   "outputs": [
    {
     "name": "stdout",
     "output_type": "stream",
     "text": [
      "This text is 50% positive and 0.6% subjective.\n"
     ]
    }
   ],
   "source": [
    "get_sentiment(\"Alost tenta bien de renverser la vapeur et il fallut de très belles interventions de; Léonard pour empêcher’ le partage.\")"
   ]
  },
  {
   "cell_type": "code",
   "execution_count": 8,
   "metadata": {},
   "outputs": [
    {
     "name": "stdout",
     "output_type": "stream",
     "text": [
      "This text is 50% positive and 0.2% subjective.\n"
     ]
    }
   ],
   "source": [
    "get_sentiment(\"C’est alors que Godefroot perdit un tour, et ce retard de 500 mètres fut évoqué par Gimondi, qui réclama donc la première place.\"\n",
    ")"
   ]
  },
  {
   "cell_type": "code",
   "execution_count": 12,
   "metadata": {},
   "outputs": [
    {
     "name": "stdout",
     "output_type": "stream",
     "text": [
      "This text is 7% positive and 0.44999999999999996% subjective.\n"
     ]
    }
   ],
   "source": [
    "get_sentiment(\"Si vous avez au moins deux 'non' et si vous êtes sténo, dactylo, ou si vous aimez le travail de bureau, il est temps de vous mettre en rapport avec Interlabor.\")"
   ]
  },
  {
   "cell_type": "code",
   "execution_count": 6,
   "metadata": {},
   "outputs": [
    {
     "name": "stdout",
     "output_type": "stream",
     "text": [
      "This text is 17% positive and 0.18% subjective.\n"
     ]
    }
   ],
   "source": [
    "get_sentiment(\"il nous est arrivé combien de fois de les voir beaucoup plus haut que nous ne l'eussions souhaité.\")"
   ]
  },
  {
   "cell_type": "code",
   "execution_count": 13,
   "metadata": {},
   "outputs": [
    {
     "name": "stdout",
     "output_type": "stream",
     "text": [
      "This text is neutral and 0.8% subjective.\n"
     ]
    }
   ],
   "source": [
    "get_sentiment(\"D’un geste instinctif, elle remonta le col de son pull-over.\")"
   ]
  },
  {
   "cell_type": "code",
   "execution_count": 14,
   "metadata": {},
   "outputs": [
    {
     "name": "stdout",
     "output_type": "stream",
     "text": [
      "This text is 10% positive and 0.1% subjective.\n"
     ]
    }
   ],
   "source": [
    "get_sentiment(\" A l’heure actuelle, les crédits bancaires sont onéreux.\")"
   ]
  }
 ],
 "metadata": {
  "kernelspec": {
   "display_name": "Python 3.10.7 ('tac_venv': venv)",
   "language": "python",
   "name": "python3"
  },
  "language_info": {
   "codemirror_mode": {
    "name": "ipython",
    "version": 3
   },
   "file_extension": ".py",
   "mimetype": "text/x-python",
   "name": "python",
   "nbconvert_exporter": "python",
   "pygments_lexer": "ipython3",
   "version": "3.10.7"
  },
  "orig_nbformat": 4,
  "vscode": {
   "interpreter": {
    "hash": "cc02284ea1abfbf5784b52de346f5d9c212486c58556bf2be7ec1d4893dff572"
   }
  }
 },
 "nbformat": 4,
 "nbformat_minor": 2
}
