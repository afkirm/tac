{
 "cells": [
  {
   "cell_type": "code",
   "execution_count": null,
   "metadata": {},
   "outputs": [],
   "source": [
    "SELECT DISTINCT ?item ?itemLabel WHERE {\n",
    "  SERVICE wikibase:label { bd:serviceParam wikibase:language \"[AUTO_LANGUAGE]\". }\n",
    "  {\n",
    "    SELECT DISTINCT ?item WHERE {\n",
    "      ?item p:P31 ?statement0.\n",
    "      ?statement0 (ps:P31/(wdt:P279*)) wd:Q15284.\n",
    "      ?item p:P17 ?statement1.\n",
    "      ?statement1 (ps:P17/(wdt:P279*)) wd:Q31.\n",
    "    }\n",
    "   \n",
    "  }\n",
    "}\n"
   ]
  }
 ],
 "metadata": {
  "language_info": {
   "name": "python"
  },
  "orig_nbformat": 4
 },
 "nbformat": 4,
 "nbformat_minor": 2
}
