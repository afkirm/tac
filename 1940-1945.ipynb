{
 "cells": [
  {
   "cell_type": "code",
   "execution_count": 1,
   "metadata": {},
   "outputs": [],
   "source": [
    "import os\n",
    "import yake"
   ]
  },
  {
   "cell_type": "code",
   "execution_count": 2,
   "metadata": {},
   "outputs": [],
   "source": [
    "year = 1940"
   ]
  },
  {
   "cell_type": "code",
   "execution_count": 3,
   "metadata": {},
   "outputs": [],
   "source": [
    "data_path = '../tac/data/'\n",
    "txt_path = '../tac/data/txt/'\n",
    "txts = [f for f in os.listdir(txt_path) if os.path.isfile(os.path.join(txt_path, f)) and str(year) in f]\n"
   ]
  },
  {
   "cell_type": "code",
   "execution_count": 4,
   "metadata": {},
   "outputs": [],
   "source": [
    "content_list = []\n",
    "for txt in txts:\n",
    "    with open(os.path.join(txt_path, txt), 'r', encoding=\"utf-8\") as f:\n",
    "        content_list.append(f.read())"
   ]
  },
  {
   "cell_type": "code",
   "execution_count": 5,
   "metadata": {},
   "outputs": [],
   "source": [
    "temp_path = '../tac/data/tmp/'\n",
    "if not os.path.exists(temp_path):\n",
    "    os.mkdir(temp_path)\n",
    "with open(os.path.join(temp_path, f'{year}.txt'), 'w', encoding=\"utf-8\") as f:\n",
    "    f.write(' '.join(content_list))"
   ]
  },
  {
   "cell_type": "code",
   "execution_count": 6,
   "metadata": {},
   "outputs": [
    {
     "data": {
      "text/plain": [
       "<yake.yake.KeywordExtractor at 0x179ec5dd210>"
      ]
     },
     "execution_count": 6,
     "metadata": {},
     "output_type": "execute_result"
    }
   ],
   "source": [
    "kw_extractor = yake.KeywordExtractor(lan=\"fr\", top=50)\n",
    "kw_extractor"
   ]
  },
  {
   "cell_type": "code",
   "execution_count": 13,
   "metadata": {},
   "outputs": [],
   "source": [
    "data_path2 = '../tac/data/tmp/tmp1/'\n",
    "mon_fichier = os.listdir(data_path2)\n",
    "notre_texte = mon_fichier[0]\n",
    "notre_texte = open(os.path.join(data_path2, notre_texte ), 'r', encoding=\"utf-8\").read()\n"
   ]
  },
  {
   "cell_type": "code",
   "execution_count": 12,
   "metadata": {},
   "outputs": [
    {
     "data": {
      "text/plain": [
       "[('Ecrire Agence Rossel', 6.670226870982535e-09),\n",
       " ('AGENCE ROSSEL', 7.797381153233898e-08),\n",
       " ('RUE ROYALE BRUXELLES', 1.3027054826157186e-07),\n",
       " ('prix Agence Rossel', 2.338124618955241e-07),\n",
       " ('Bruxelles VENTE PUBLIQUE', 2.4807806733108216e-07),\n",
       " ('offre Agence Rossel', 4.090687890983567e-07),\n",
       " ('RAPPORT rue Van', 4.4037391212900436e-07),\n",
       " ('rue Van', 5.344568248169062e-07),\n",
       " ('Bruxelles Ecrire Agence', 5.540492722935966e-07),\n",
       " ('Bruxelles', 5.93151276655104e-07),\n",
       " ('rue Jean Van', 6.127636996330877e-07),\n",
       " ('Ecrire Agence', 6.353611559407898e-07),\n",
       " ('Agence Rossel numéro', 6.649424584795362e-07),\n",
       " ('rue', 7.639944177538153e-07),\n",
       " ('PROGRAMME FLAMAND Informations', 7.938062724440975e-07),\n",
       " ('rue Royale', 8.43204463779864e-07),\n",
       " ('PROGRAMME FRANÇAIS Informations', 9.042813068012501e-07),\n",
       " ('Ecr Agence Rossel', 9.148366779908351e-07),\n",
       " ('cherche place Bruxelles', 9.887343566151643e-07),\n",
       " ('rue Pierre Van', 1.0582742340626989e-06),\n",
       " ('ROSSEL', 1.0727711046947277e-06),\n",
       " ('dem', 1.150266868321969e-06),\n",
       " ('PROGRAMME FLAMAND', 1.1553251255197764e-06),\n",
       " ('Mme Jean van', 1.3347784494008062e-06),\n",
       " ('Galerie Moderne Rue', 1.3470010403725845e-06),\n",
       " ('PROGRAMME FRANÇAIS', 1.3494308398144966e-06),\n",
       " ('Tervueren Bruxelles Bruxelles', 1.3528683977558077e-06),\n",
       " ('Bruxelles Bruxelles Tervueren', 1.3528683977558077e-06),\n",
       " ('références Agence Rossel', 1.5615816458245364e-06),\n",
       " ('Société anonyme belge', 1.5802044997185747e-06),\n",
       " ('rue Jules Van', 1.5820774196087577e-06),\n",
       " ('rue Van maison', 1.6123890593660877e-06),\n",
       " ('rue Henri Van', 1.7381517304957874e-06),\n",
       " ('BRUXELLES NAMUR Namur', 1.7737703307481224e-06),\n",
       " ('PROGRAMME FRANÇAIS Concert', 1.8140413764917827e-06),\n",
       " ('rue Van Artevelde', 1.8777502357036727e-06),\n",
       " ('AVENUE VAN VOLXEM', 1.8987023148040874e-06),\n",
       " ('Ateliers Bruxelles dem', 1.9585200342050226e-06),\n",
       " ('JNE FILLE dem', 1.978842922384985e-06),\n",
       " ('Ecrire Agence DEM', 2.0799627469502542e-06),\n",
       " ('VENTE PUBLIQUE D’UN', 2.1316823673021938e-06),\n",
       " ('BRUXELLES ANVERS LIEGE', 2.1463416243401882e-06),\n",
       " ('rue Van der', 2.1583850010019394e-06),\n",
       " ('Usine Bruxelles dem', 2.241283139806887e-06),\n",
       " ('cherche place', 2.250214613544569e-06),\n",
       " ('Théâtre royal Flamand', 2.278242264284616e-06),\n",
       " ('Mme Pierre van', 2.3053672176239465e-06),\n",
       " ('BRUXELLES dem', 2.525109006422089e-06),\n",
       " ('louer belle maison', 2.5412897749680567e-06),\n",
       " ('VILLE Ville Anvers', 2.5567029140526844e-06)]"
      ]
     },
     "execution_count": 12,
     "metadata": {},
     "output_type": "execute_result"
    }
   ],
   "source": [
    "# Extraire les mots clés de ce texte\n",
    "keywords = kw_extractor.extract_keywords(notre_texte)\n",
    "keywords"
   ]
  },
  {
   "cell_type": "code",
   "execution_count": null,
   "metadata": {},
   "outputs": [],
   "source": []
  }
 ],
 "metadata": {
  "kernelspec": {
   "display_name": "Python 3",
   "language": "python",
   "name": "python3"
  },
  "language_info": {
   "codemirror_mode": {
    "name": "ipython",
    "version": 3
   },
   "file_extension": ".py",
   "mimetype": "text/x-python",
   "name": "python",
   "nbconvert_exporter": "python",
   "pygments_lexer": "ipython3",
   "version": "3.11.1 (tags/v3.11.1:a7a450f, Dec  6 2022, 19:58:39) [MSC v.1934 64 bit (AMD64)]"
  },
  "orig_nbformat": 4,
  "vscode": {
   "interpreter": {
    "hash": "b98f472bb8ba48098397e3b897b5be76f7bf0e62d98845cdb0e8066dc5677259"
   }
  }
 },
 "nbformat": 4,
 "nbformat_minor": 2
}
